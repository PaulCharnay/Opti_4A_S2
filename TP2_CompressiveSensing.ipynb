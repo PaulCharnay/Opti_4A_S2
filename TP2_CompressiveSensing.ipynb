{
 "cells": [
  {
   "cell_type": "markdown",
   "metadata": {},
   "source": [
    "CHARNAY Paul - MONEDIERES Emmeline\n",
    "\n",
    "TP 2 - Echantillonnage compressif\n",
    "=================="
   ]
  },
  {
   "cell_type": "code",
   "execution_count": null,
   "metadata": {},
   "outputs": [],
   "source": [
    "import numpy as np\n",
    "import numpy.linalg as npl\n",
    "import math\n",
    "import scipy.fftpack as fft\n",
    "import matplotlib.pyplot as plt\n",
    "from ipywidgets import interact, widgets\n",
    "%matplotlib inline"
   ]
  },
  {
   "cell_type": "markdown",
   "metadata": {},
   "source": [
    "Récemment (début années 2004-présent), de nouveaux concepts et théorèmes ont été développés et risquent de \n",
    "révolutionner à relativement court terme la fabrication de certains appareils de mesure numériques (microphones, imageurs, analyseurs de spectres,...). \n",
    "Ces nouvelles techniques sont couramment appelées échantillonnage compressif, \"compressive sampling\" ou encore \"compressed sensing\". "
   ]
  },
  {
   "cell_type": "markdown",
   "metadata": {},
   "source": [
    "## 1. Le théorème de Shannon"
   ]
  },
  {
   "attachments": {
    "EchantillonageSous_Nyquist.png": {
     "image/png": "[encoded data removed]"
    },
    "Echantillonnage09.png": {
     "image/png": "[encoded data removed]"
    },
    "Echantillonnage105.png": {
     "image/png": "[encoded data removed]"
    },
    "Echantillonnage201.png": {
     "image/png": "[encoded data removed]"
    }
   },
   "cell_type": "markdown",
   "metadata": {},
   "source": [
    "Aujourd'hui, presque tous les appareils de mesure reposent sur le théorème de Shannon. Celui-ci (vous l'avez déjà vu en 2ème année) peut s'énoncer ainsi : \n",
    "> Soit $g:\\mathbb{R}\\to \\mathbb{R}$ une fonction de $L^2(\\mathbb{R})$. Si sa transformée de Fourier $\\hat g$ a un support contenu dans l'intervalle $[-f_M, f_M]$, alors en l'échantillonnant à une fréquence d'échantillonnage $f_e\\geq 2f_M$, on peut la reconstruire exactement.\n",
    "\n",
    "Ce théorème est illustré sur les figures ci-après:\n",
    "![Echantillonnage105.png](attachment:Echantillonnage105.png)![Echantillonnage201.png](attachment:Echantillonnage201.png)\n",
    "![Echantillonnage09.png](attachment:Echantillonnage09.png)![EchantillonageSous_Nyquist.png](attachment:EchantillonageSous_Nyquist.png)\n",
    "\n",
    "Les instruments de mesures qui reposent sur ce théorème sont donc construits suivant le principe : \n",
    ">Filtre passe-bas $\\rightarrow$ Echantillonnage à une fréquence $f>2f_M$ $\\rightarrow$ Interpolation sinc\n",
    "\n",
    "Pour beaucoup d'applications, ce principe présente deux défauts majeurs :\n",
    "* Les signaux sont rarement naturellement à spectre borné, et on perd donc l'information haute-fréquence en effectuant un filtrage passe-bas.\n",
    "* Pour beaucoup de signaux, il faut choisir une très haute fréquence d'échantillonnage pour obtenir un résultat satisfaisant. \n",
    "Ceci implique que les données à stocker ont une taille très importante et qu'il faut les compresser après coup (par exemple : jpeg).\n",
    "\n",
    "\n"
   ]
  },
  {
   "cell_type": "markdown",
   "metadata": {},
   "source": [
    "## 2. L'échantillonnage compressif"
   ]
  },
  {
   "cell_type": "markdown",
   "metadata": {},
   "source": [
    "**1. Principe général**\n",
    "\n",
    "L'idée sous jacente à l'échantillonnage compressif est de réaliser la compression dès l'acquisition.\n",
    "Supposons que le signal $x\\in \\mathbb{R}^n$ que l'on souhaite mesurer s'écrive comme une combinaison linéaire de la forme :\n",
    "\\begin{equation}\n",
    "(1)~~~~~~~~~~~ x=\\sum_{i=1}^m\\alpha_i \\psi_i\n",
    "\\end{equation}\n",
    "où $\\psi_i\\in \\mathbb{R}^n, \\ i=1..m$, sont des \"fonctions de base\" (en traitement d'images, ces fonctions pourraient être des ondelettes, en traitement du son, des ondelettes ou des atomes de Fourier, pour certaines applications, on pourrait imaginer des splines...} et $\\alpha_i\\in \\mathbb{R}$ sont des coefficients. \n",
    "On peut réécrire l'équation (1) sous la forme matricielle condensée :\n",
    "$$\n",
    "x=\\Psi \\alpha \\ \\ \\textrm{où } \\ \\ \\alpha=\\begin{pmatrix} \\alpha_1 \\\\ \\vdots \\\\ \\alpha_m \\end{pmatrix}\\ \\ \\textrm{et} \\ \\ \\Psi=\\begin{pmatrix} \\psi_1,\\psi_2,..., \\psi_m\\end{pmatrix}.\n",
    "$$\n",
    "Pour pouvoir reconstruire tous les éléments de $\\mathbb{R}^n$, on suppose généralement que la matrice $\\Psi$ est une matrice surjective (ainsi, la famille  des $(\\Psi_i)_i$ est génératrice), ce qui implique que $m\\geq n$. Dans le langage du traitement d'image, on dit alors que $\\Psi$ est un frame (une base si $m=n$).\n",
    "\n",
    "L'échantillonnage compressif repose sur l'hypothèse suivante : les signaux $x$ que l'on souhaite mesurer sont parcimonieux, \n",
    "c'est-à-dire que la majorité des coefficients $\\alpha_i$ dans (1) sont nuls ou encore que \n",
    "$$\\#\\{\\alpha_i\\neq 0, i=1..m\\}\\ll n.$$\n",
    "On va voir que cette hypothèse permet - dans certains cas - de réduire drastiquement le nombre de mesures par rapport au théorème de Shannon avec en contre-partie, le besoin de résoudre un problème d'optimisation pour reconstruire la donnée. L'objectif de ce TP est de résoudre le problème d'optimisation résultant.\n",
    "\n",
    "Le principe de l'acquisition du signal $x$ est le suivant :\n",
    "\n",
    "- On effectue un petit nombre $p\\ll n$ de mesures linéaires du signal $x$ inconnu. On note ces mesures $y_i$, et comme elles sont linéaires par rapport à $x$, il existe pour chaque $i$ un vecteur $a_i\\in \\mathbb{R}^n$ tel que \n",
    "$$y_i=\\langle a_i, x\\rangle, i=1..p.$$ On peut aussi écrire cette opération de mesure sous la forme condensée :\n",
    "$$\n",
    "y=Ax\\ \\ \\textrm{où } \\ \\ y=\\begin{pmatrix} y_1 \\\\ \\vdots \\\\ y_p\\end{pmatrix} \\ \\ \\textrm{et} \\ \\ A=\\begin{pmatrix} a_1^T\\\\a_2^T\\\\ \\vdots\n",
    "\\\\ a_p^T\\end{pmatrix}.\n",
    "$$\n",
    "- On reconstruit le signal $x$ en résolvant le problème contraint suivant :\n",
    "\n",
    "$$\n",
    "(2)~~~~~~~~~~~ \\mbox{Trouver } \\alpha^\\star \\mbox{ solution de: }\\displaystyle\\min_{\\alpha \\in \\mathbb{R}^m, A\\Psi\\alpha=y} \\|\\alpha\\|_0\n",
    "$$\n",
    "\n",
    "où $\\|\\cdot\\|_0$ est la norme de comptage, aussi appelée norme $l^0$ définie par : \n",
    "$$\n",
    "\\|\\alpha\\|_0=\\#\\{\\alpha_i\\neq 0, i=1..m\\}.\n",
    "$$\n",
    "Autrement dit, l'idée est la suivante : on  cherche $\\alpha^\\star$, le signal le plus parcimonieux dans le frame $\\Psi$, parmi les signaux qui peuvent donner lieu aux mesures $y$. \n",
    "Après avoir trouvé $\\alpha^\\star$, on recouvre $\\tilde x$, une approximation du signal $x$ en calculant $\\tilde x=\\Psi\\alpha^\\star$.\n",
    "\n"
   ]
  },
  {
   "cell_type": "markdown",
   "metadata": {},
   "source": [
    "**2. Simplification du problème d'optimisation**\n",
    "\n",
    "Le problème précédent est un problème combinatoire NP-complet, ce qui signifie que trouver $\\alpha$ peut demander un temps exponentiel en fonction de $n$, la dimension du signal. Pour le résoudre en pratique, il est souvent remplacé par : \n",
    "\n",
    "$$\n",
    "(3)~~~~~~~~~~~  \\mbox{Trouver } \\alpha^*\\in \\displaystyle\\arg\\min_{\\alpha \\in \\mathbb{R}^m, A\\Psi\\alpha=y} \\|\\alpha\\|_1\n",
    "$$\n",
    "\n",
    "où $\\|\\alpha\\|_1=\\sum_{i=1}^m|\\alpha_i|$ est la norme $l^1$ de $\\alpha$. On peut dans certains cas montrer que les solutions de (2) et de (3) sont identiques. \n",
    "\n",
    "Un appareil de mesure n'étant jamais parfait, il est impossible de mesurer exactement $y_i=\\langle a_i, x\\rangle$. \n",
    "Le vecteur $y$ est bruité et la contrainte $A\\Psi\\alpha=y$ est trop forte. Elle est donc généralement relaxée et le problème devient : \n",
    "\n",
    ">$$(4)~~~~~~~~~~~  \\mbox{Trouver } \\alpha^*\\in \\arg\\min_{\\alpha \\in \\mathbb{R}^m} \\|\\alpha\\|_1 + \\frac{\\sigma}{2} \\|A\\Psi\\alpha-y\\|_2^2.$$\n",
    "\n",
    "Si $\\sigma$ tend vers $0$, la solution du problème (4) tend vers une solution du problème (3). C'est le problème (4) que nous allons résoudre dans ce TP. Dans la suite , on notera $F$ la fonction :\n",
    "$$\n",
    "F(\\alpha)=\\|\\alpha\\|_1 + \\frac{\\sigma}{2} \\|A\\Psi\\alpha-y\\|_2^2.\n",
    "$$\n",
    "\n",
    "Pour conclure cette introduction à l'échantillonnage compressif, notons que de façon similaire au théorème de Shannon, on dispose d'une condition de reconstruction exacte :\n",
    "\n",
    "> Supposons que :\n",
    "* $x=\\displaystyle\\sum_{i=1}^m\\alpha_i\\psi_i\\in \\mathbb{R}^n$ avec $\\|\\alpha\\|_0=k$.\n",
    "* On effectue $p$ mesures linéaires de $x$ avec $p\\geq C \\cdot k \\cdot \\log(n)$, où $C=20$.\n",
    "* On choisit les coefficients de la matrice $A\\in \\mathcal{M}_{p,n}$ de façon **aléatoire** (e.g. on peut choisir les coefficients $a_{i,j}$ de $A$ de façon indépendante suivant une loi normale.)\n",
    "\n",
    "> Alors, la résolution du problème (3) permet de reconstruire $x$ **exactement** avec une très grande probabilité \n",
    "\n",
    "L'expérience a montré qu'en pratique, il suffit en général de $p=2k$ mesures pour reconstruire le signal exactement en grande dimension !"
   ]
  },
  {
   "cell_type": "markdown",
   "metadata": {},
   "source": [
    "3. Préliminaires théoriques\n",
    "----------------------------"
   ]
  },
  {
   "cell_type": "markdown",
   "metadata": {},
   "source": [
    "Commençons par remarquer que les problèmes (3) et (4) sont convexes (contraintes convexes et fonctions convexes) tandis que le problème (2) ne l'est pas. En revanche, aucun des trois problèmes n'est différentiable.\n",
    "\n",
    "**Q1.** Soit $J(\\alpha) =\\frac{\\sigma}{2}\\|A\\Psi \\alpha - y\\|_2^2$. Calculez $\\nabla J(\\alpha)$.\n",
    "\n",
    "$$\\nabla J(\\alpha) = \\sigma \\Psi^\\top A^\\top \\left(A\\Psi \\alpha - y\\right) $$\n",
    "\n",
    "\n",
    "**Q2.** Montrer que la fonction $J$ est de classe $C^1$ à gradient Lipschitz et calculer un majorant $L$ de la constante de Lipschitz de $\\nabla J$ en fonction de $|||A|||$, de $|||\\Psi |||$ et de $\\sigma$.\n",
    "    \n",
    "$J$ est continue et $\\nabla J$ existe et est continue donc $J$ est de classe $C^1$. \n",
    "De plus, $\\nabla J$ est différentiable donc par le théorème des accroissements finis,\n",
    "$$\n",
    " \\forall (x,y), \\| \\nabla J(x) - \\nabla J(y) \\| \\leq |||H_J(u)||| \\times \\|x - y\\| $$\n",
    " \n",
    " avec \n",
    "\n",
    "$$ |||H_J(u)||| = \\sigma |||A|||^2 \\times |||\\Psi|||^2 $$\n",
    "\n",
    "\n",
    "Donc $J$ est à gradient Lipschitz.\n",
    "    "
   ]
  },
  {
   "cell_type": "markdown",
   "metadata": {},
   "source": [
    "**Construction de l'algorithme**\n",
    "\n",
    "On note $\\alpha^k$ l'itéré courant. En appliquant le lemme de Nesterov à la fonction $J$, on a:\n",
    "$$\\forall \\alpha\\in \\mathbb{R}^m,~J(\\alpha)\\leq {J(\\alpha^k) + \\langle \\nabla J(\\alpha^k), \\alpha-\\alpha^k\\rangle + \\frac{L}{2}\\|\\alpha-\\alpha^k\\|_2^2}.\n",
    "$$\n",
    "\n",
    "En posant $\\phi(\\alpha,\\alpha^k)=J(\\alpha^k) + \\langle \\nabla J(\\alpha^k), \\alpha-\\alpha^k\\rangle + \\frac{L}{2}\\|\\alpha-\\alpha^k\\|_2^2 +\\|\\alpha\\|_1$, on a alors:\n",
    "\n",
    "$$\\forall \\alpha\\in \\mathbb{R}^m,~F(\\alpha) = J(\\alpha)+\\|\\alpha\\|_1\\leq \\phi(\\alpha,\\alpha^k),$$\n",
    "\n",
    "avec : $\\phi(\\alpha^k,\\alpha^k) = F(\\alpha^k)$.\n",
    "\n",
    "Cette inégalité motive alors l'algorithme de descente suivant:\n",
    "\n",
    "$$\\alpha^{k+1}=\\displaystyle\\arg\\min_{\\alpha\\in \\mathbb{R}^m} \\phi(\\alpha,\\alpha^k).$$"
   ]
  },
  {
   "cell_type": "markdown",
   "metadata": {},
   "source": [
    "**Q3.** Montrer que l'algorithme s'écrit de façon équivalente sous la forme:\n",
    "$$\\alpha^{k+1} = \\mbox{prox}_{\\frac{1}{L}\\|\\cdot\\|_1}\\left(\\alpha^k - \\frac{1}{L}\\nabla J(\\alpha^k)\\right).$$\n",
    "\n",
    "\n",
    "$$\\begin{align}\n",
    "\\alpha^{k+1} &= \\arg\\min_{\\alpha \\in \\mathbb{R}^m} \\Phi(\\alpha, \\alpha^k) \\\\\n",
    "&= \\arg\\min_{\\alpha \\in \\mathbb{R}^m} J(\\alpha^k) + \\langle \\nabla J(\\alpha^k), \\alpha - \\alpha^k \\rangle + \\frac{L}{2} \\| \\alpha - \\alpha^k \\|_2^2 + \\| \\alpha \\|_1 \\\\\n",
    "&= \\arg\\min_{\\alpha \\in \\mathbb{R}^m} J(\\alpha^k) + \\frac{L}{2} \\left( \\| \\alpha - \\alpha^k \\|_2^2 + \\frac{2}{L} \\langle \\nabla J(\\alpha^k), \\alpha - \\alpha^k \\rangle \\right) + \\| \\alpha \\|_1 \\\\\n",
    "&= \\arg\\min_{\\alpha \\in \\mathbb{R}^m} J(\\alpha^k) + \\frac{L}{2} \\| \\alpha - \\alpha^k  + \\frac{1}{L} \\nabla J(\\alpha^k) \\|_2^2 - \\frac{1}{L^2} \\| \\nabla J(\\alpha^k) \\|_2^2 + \\| \\alpha \\|_1 \\\\\n",
    "&= \\arg\\min_{\\alpha \\in \\mathbb{R}^m}\\| \\alpha \\|_1 + \\frac{L}{2} \\| \\alpha - \\alpha^k  + \\frac{1}{L} \\nabla J(\\alpha^k) \\|_2^2  \\\\\n",
    "& \\text{car $\\alpha^k$ et donc $J(\\alpha^k)$ sont constants, ie ne dépendent pas de $\\alpha$}\n",
    "\\end{align}$$\n",
    "\n",
    "Or, \n",
    "$$\\begin{align}\n",
    "\\mbox{prox}_{\\frac{1}{L}\\|\\cdot\\|_1}\\left(\\alpha^k - \\frac{1}{L}\\nabla J(\\alpha^k)\\right) &= \\arg\\min_{\\alpha \\in \\mathbb{R}^m} \\frac{1}{L} \\| \\alpha \\|_1 + \\frac{1}{2} \\| \\alpha - \\alpha^k + \\frac{1}{L} \\nabla J(\\alpha^k) \\|_2^2 \\\\\n",
    "&= \\arg\\min_{\\alpha \\in \\mathbb{R}^m} \\| \\alpha \\|_1 + \\frac{L}{2} \\| \\alpha - \\alpha^k + \\frac{1}{L} \\nabla J(\\alpha^k) \\|_2^2 \\quad \\text{ puisque $L \\geq 0$}\n",
    "\\end{align}$$\n",
    "\n",
    "On a donc bien l'équivalence entre ces deux problèmes.\n",
    "\n",
    "**Q5.** De quelle quantité la fonction coût $F(\\alpha)$ décroît-elle à chaque itération ?\n",
    "\n",
    "\n",
    "On a vu qu'on pouvait écrire $F$ comme la somme de deux fonctions : $F(\\alpha) = J(\\alpha) + \\|\\alpha\\|_1$ .\n",
    "\n",
    "$J$ est une fonction convexe à gradient L-Lipschitz, c'est à dire que $\\forall (x,y) \\in \\mathbb{R}^n \\times \\mathbb{R}^n $ :  \n",
    "$$J(y) \\leq J(x) + \\langle \\nabla J(x), y-x \\rangle + \\frac{L}{2} \\|y-x\\|^2_2$$  \n",
    "\n",
    "Dans notre cas, en prenant $y = \\alpha_{k+1}$ et $x = \\alpha_k$, on obtient\n",
    "$$\\begin{align}\n",
    "& J(\\alpha_{k+1}) \\leq J(\\alpha_{k}) + \\langle \\nabla J(\\alpha_{k}), \\alpha_{k+1}-\\alpha_{k} \\rangle + \\frac{L}{2} \\|\\alpha_{k+1}-\\alpha_{k}\\|^2_2 \\\\\n",
    "\\Leftrightarrow & J(\\alpha_k) \\geq J(\\alpha_{k+1}) + \\langle \\nabla J(\\alpha_k), \\alpha_k - \\alpha_{k+1} \\rangle - \\frac{L}{2}\\|\\alpha_{k+1} - \\alpha_k\\|^2_2\\\\\n",
    "\\Leftrightarrow & \\frac{1}{L} J(\\alpha_k) \\geq \\frac{1}{L} J(\\alpha_{k+1}) + \\frac{1}{L} \\langle \\nabla J(\\alpha_k), \\alpha_k - \\alpha_{k+1} \\rangle - \\frac{1}{2}\\|\\alpha_{k+1} - \\alpha_k\\|^2_2 \\text{ : notée $(E1)$}\n",
    "\\end{align}$$\n",
    "\n",
    "On pose $h(\\alpha)=||\\alpha||_1$. $h$ est une fonction convexe sci.\n",
    "On sait que \n",
    "$$\\begin{align}\n",
    "\\alpha_{k+1} &= \\mbox{prox}_{\\frac{1}{L}h}\\left(\\alpha_k - \\frac{1}{L}\\nabla J(\\alpha_k)\\right) \\\\\n",
    "&= \\arg \\min_{y \\in \\mathbb{R}}\\frac{1}{L}h(y)+ \\frac{1}{2}||y - \\alpha_k + \\frac{1}{L} \\nabla J(\\alpha_k)||^2_2\\\\ \n",
    "\\end{align}\n",
    "$$\n",
    "\n",
    "La condition d'optimalité de ce problème s'écrit :\n",
    " \n",
    "$$\\begin{align}\n",
    "& 0 \\in \\left\\{\\frac{1}{L}\\partial h(\\alpha_{k+1}) + \\alpha_{k+1} - \\alpha_k + \\frac{1}{L}\\nabla J(\\alpha_k)\\right\\} \\\\\n",
    "\\Leftrightarrow & \\alpha_{k+1}-\\alpha_k +\\frac{1}{L}\\nabla J(\\alpha_k) \\in \\frac{1}{L}\\partial h(\\alpha_{k+1}) \\\\\n",
    "\\Leftrightarrow & \\frac{1}{L} h(y) \\geq \\frac{1}{L} h(\\alpha_{k+1}) + \\langle \\alpha_k - \\frac{1}{L}\\nabla J(\\alpha_k)-\\alpha_{k+1} , y - \\alpha_{k+1} \\rangle , \\forall y \\in \\mathbb{R}^n \\text{, par définition du sous-différentiel.}\n",
    "\\end{align}$$\n",
    "  \n",
    "Si on pose $y=\\alpha_k$, cette inégalité devient :\n",
    "$$\\begin{align}\\frac{1}{L} h(\\alpha_k) &\\geq \\frac{1}{L} h(\\alpha_{k+1}) +\\langle \\alpha_k - \\frac{1}{L}\\nabla J(\\alpha_k) - \\alpha_{k+1}, \\alpha_k - \\alpha_{k+1} \\rangle\\\\\n",
    "&\\geq \\frac{1}{L} h(\\alpha_{k+1}) - \\frac{1}{L}\\langle \\nabla J(\\alpha_k), \\alpha_k - \\alpha_{k+1}\\rangle + \\|\\alpha_k - \\alpha_{k+1}\\|_2^2 \\text{ : notée $(E2)$}\n",
    "\\end{align}$$  \n",
    "\n",
    "\n",
    "En sommant $(E1)$ et $(E2)$, on obtient :   \n",
    "\n",
    "$$\\begin{align}\n",
    "&\\frac{1}{L} J(\\alpha_k) + \\frac{1}{L} h(\\alpha_k) \\geq \\frac{1}{L} J(\\alpha_{k+1}) + \\frac{1}{L}h(\\alpha_{k+1}) +\\frac{1}{L} \\langle \\nabla J(\\alpha_k), \\alpha_k - \\alpha_{k+1} \\rangle - \\frac{1}{L} \\langle \\nabla J(\\alpha_k), \\alpha_k - \\alpha_{k+1} \\rangle + \\|\\alpha_{k+1} - \\alpha_k\\|^2_2 - \\frac{1}{2}\\|\\alpha_{k+1} - \\alpha_k\\|^2_2\\\\\n",
    "\\Leftrightarrow &\\frac{1}{L} F(\\alpha_k) \\geq \\frac{1}{L} F(\\alpha_{k+1}) + \\frac{1}{2}\\|\\alpha_{k+1} - \\alpha_k\\|^2_2 \\text{ , puisque $F = J +h$}\\\\\n",
    "\\Leftrightarrow & F(\\alpha_k) \\geq F(\\alpha_{k+1}) + \\frac{L}{2}\\|\\alpha_{k+1} - \\alpha_k\\|^2_2 \\\\\n",
    "\\Leftrightarrow & F(\\alpha_k) - F(\\alpha_{k+1}) \\geq  \\frac{L}{2}\\|\\alpha_{k+1} - \\alpha_k\\|^2_2 \\geq 0\n",
    "\\end{align}$$\n",
    "\n",
    "On voit donc clairement que  $F(\\alpha_k) \\geq F(\\alpha_{k+1})$ ce qui signifie que la fonction coût décroit à chaque itération : c'est bien un algorithme de descente."
   ]
  },
  {
   "cell_type": "markdown",
   "metadata": {},
   "source": [
    "4. Partie expérimentale\n",
    "------------------------"
   ]
  },
  {
   "cell_type": "markdown",
   "metadata": {},
   "source": [
    "Dans ce TP, on va chercher à reconstruire un signal unidimensionnel $x~:~[0,1]~\\rightarrow~\\mathbb{R}$ de la forme :\n",
    "$$\n",
    "x(t)= \\alpha_{k}\\delta_{k/n}(t)+\\sum_{k=1}^n\\alpha_{k+n}\\cos\\left(\\frac{2k\\pi}{n} t\\right)\n",
    "$$ \n",
    "on a donc $m=2n$."
   ]
  },
  {
   "cell_type": "code",
   "execution_count": null,
   "metadata": {},
   "outputs": [],
   "source": [
    "## Initialisations\n",
    "def Init(n, p, plot=False):\n",
    "    t= np.linspace(0, 1, n) #On definit un signal sur [0,1]\n",
    "\n",
    "    ## Generation du signal\n",
    "    x = np.zeros(n)\n",
    "    tmp = np.zeros(n)\n",
    "    #On ajoute deux cosinus\n",
    "    tmp[350] = 4\n",
    "    x += fft.idct(tmp, norm='ortho')  \n",
    "    tmp = np.zeros(n)\n",
    "    tmp[150] = -3  \n",
    "    x += fft.idct(tmp, norm='ortho')\n",
    "    #On ajoute deux diracs\n",
    "    x[int(n/3)] = 0.5    #Tester 0.5\n",
    "    x[int(2*n/3)] = -1 #Tester -1\n",
    "    \n",
    "    if plot:\n",
    "        plt.plot(t, x, 'b')\n",
    "        plt.show()\n",
    "    ## Mesure du signal\n",
    "    A = np.random.randn(p, n) #La matrice de mesure\n",
    "    y = A.dot(x)        #Les mesures\n",
    "    return A, y, x, n\n",
    "\n",
    "A, y, x, n = Init(500, 80, plot=True)"
   ]
  },
  {
   "cell_type": "markdown",
   "metadata": {},
   "source": [
    "Le code *Generesignal.py* génère un signal discret $x$ qui peut être vu comme une combinaison linéaire de cosinus à différentes fréquences et de diracs. Ce signal n'est pas parcimonieux dans la base canonique des diracs (car il faut à peu près $n$ diracs pour représenter un cosinus) et il n'est pas parcimonieux dans la base des sinus (il faut faire une combinaison linéaire de $n$ cosinus pour représenter un dirac).\n",
    "\n",
    "Par contre, ce signal est parcimonieux dans un frame qui est l'union de la base canonique et de la base des cosinus. \n",
    "Dans ce frame, il suffit en effet de $4$ coefficients non nuls pour reconstruire parfaitement le signal.\n",
    "\n",
    "> On choisira donc le frame représenté par une matrice $\\Psi=(I,C) \\in \\mathcal{ M}_{2n,n}(\\mathbb{R})$ o\\`u $C$ est une base de cosinus à différentes fréquences.\n",
    "\n",
    "### 4.1. Implémentation de l'itération proximale\n",
    "\n",
    "**Q6** Implémentez l'opérateur linéaire $\\Psi$ et son adjoint $\\Psi^*$. \n",
    "\n",
    "Pour $\\Psi$, vous vous servirez de la fonction $dct$ de Python dans la libraire scipy.fftpack qui calcule la transformée en cosinus discret d'un vecteur. Vous ferez attention à préciser *norm='ortho'* dans les options de la $dct$ pour que $idct$ soit bien l'opération inverse de $dct$.\n",
    "\n",
    "Pour $\\Psi^*$, vous utiliserez le fait que la $dct$ est une isométrie quand on précise \\textit{norm='ortho'} dans les options de $dct$.\n",
    "\n",
    "**R** \n",
    "$dct$ et $idct$ sont des isométries donc $(idct)^* = dct$. Ainsi, puisque $\\Psi(\\alpha)_i=\\alpha_i + idct((\\alpha_i)_{n+1\\leq i\\leq 2n})_{i+n} \\forall i \\in {1...n}$, on obtient :\n",
    "$$\\Psi^*=\\begin{pmatrix} I^* \\\\ C^*\\end{pmatrix}=\\begin{pmatrix} I \\\\ C^*\\end{pmatrix}$$"
   ]
  },
  {
   "cell_type": "code",
   "execution_count": null,
   "metadata": {},
   "outputs": [],
   "source": [
    "## Linear function Psi\n",
    "## (combination of sines and diracs) \n",
    "def Psi(alpha):\n",
    "    n = len(alpha) // 2\n",
    "    x = np.zeros(n)\n",
    "    x[:n] = alpha[:n] + fft.idct([alpha[n:]], norm='ortho', axis=-1, overwrite_x=False)\n",
    "    return x\n",
    "\n",
    "\n",
    "## The transpose of Psi\n",
    "def PsiT(x): \n",
    "    n = len(x)\n",
    "    alpha = np.zeros(2 * n)\n",
    "    alpha[:n] = x\n",
    "    alpha[n:] = fft.dct(x, norm='ortho', axis=-1, overwrite_x=False)\n",
    "    return alpha"
   ]
  },
  {
   "cell_type": "markdown",
   "metadata": {},
   "source": [
    "**Q7** Implémentez l'algorithme proximal dans la fonction *RestoreX* avec les notations suivantes:\n",
    "* $A$ est la matrice d'échantillonnage.\n",
    "* $y$ est le vecteur de mesures.\n",
    "* $sigma$ est un paramètre du modèle.\n",
    "* $nit$ est le nombre d'itérations.\n",
    "* $alpha$ est la solution approximative du problème (4).\n",
    "* $x$ est donné par Psi $(\\alpha)$.\n",
    "* $CF$ est la fonction coût à chaque itération de l'algorithme. \n",
    "\n",
    "$$\\alpha^{k+1} = \\mbox{prox}_{\\frac{1}{L}\\|\\cdot\\|_1}\\left(\\alpha^k - \\frac{1}{L}\\nabla J(\\alpha^k)\\right).$$\n",
    "\n",
    "$$\n",
    "F(\\alpha)=\\|\\alpha\\|_1 + \\frac{\\sigma}{2} \\|A\\Psi\\alpha-y\\|_2^2.\n",
    "$$\n",
    "\n",
    "$$\n",
    "\\nabla J(\\alpha) = \\sigma \\Psi^\\top A^\\top\\left(A\\Psi \\alpha - y\\right)\n",
    "$$"
   ]
  },
  {
   "cell_type": "code",
   "execution_count": null,
   "metadata": {},
   "outputs": [],
   "source": [
    "## Prox of the l1−norm \n",
    "def prox(alpha, gamma):\n",
    "    return np.sign(alpha) * np.maximum(np.abs(alpha) - gamma, 0)\n",
    "\n",
    "def RestoreX(A, y, sigma, nit, xopt):\n",
    "    alpha = np.zeros(np.shape(A)[1] * 2) \n",
    "    L = 2 * sigma * npl.norm(A, 2) ** 2  # La norme triple de Psi vaut 2\n",
    "    CF = []\n",
    "    cv_rate = np.zeros(nit)\n",
    "    for i in range(nit):\n",
    "        x = Psi(alpha)\n",
    "        alpha = prox(alpha - 1 / L * sigma * PsiT(A.T.dot(A.dot(x) - y)), 1 / L)\n",
    "        CF.append(npl.norm(alpha, 1) + sigma / 2 * (npl.norm(np.dot(A, Psi(alpha)) - y)) ** 2)\n",
    "        cv_rate[i] = npl.norm(Psi(alpha) - xopt, 2) / npl.norm(x - xopt, 2)\n",
    "      \n",
    "    return alpha, x, CF, cv_rate"
   ]
  },
  {
   "cell_type": "markdown",
   "metadata": {},
   "source": [
    "**Q8.** Testez votre algorithme ! Les paramètres $sigma$ et $nit$ sont des paramètres à choisir par vous-même (il faut en pratique beaucoup d'itérations pour converger). Vous pourrez observer la façon dont la suite $\\alpha^k$ se comporte au fur et à mesure des itérations."
   ]
  },
  {
   "cell_type": "code",
   "execution_count": null,
   "metadata": {},
   "outputs": [],
   "source": [
    "@interact(sigma=widgets.FloatSlider(min=0.1, max=6, step=0.1, value=0.1, continuous_update=False), \n",
    "          nit=widgets.IntSlider(min=2500, max=50000, step=2500, value=2500, continuous_update=False))\n",
    "def test_sigma_nit(sigma, nit):\n",
    "    A, y, x, n = Init(500, 80)\n",
    "    fig, ax = plt.subplots(nrows=3, ncols=2, figsize=(15, 15))\n",
    "    alpha, xtilde, CF, cv_rate = RestoreX(A, y, sigma, nit, x)\n",
    "\n",
    "    ax[0, 0].plot(x)\n",
    "    ax[0, 0].set_title(\"Signal original\")\n",
    "\n",
    "    ax[0, 1].plot(xtilde)\n",
    "    ax[0, 1].set_title(\"Signal reconstruit\")\n",
    "    \n",
    "    ax[1, 0].plot(CF)\n",
    "    ax[1, 0].semilogy()\n",
    "    ax[1, 0].set_title(\"Fonction coût\")\n",
    "    \n",
    "    ax[1, 1].plot(alpha)\n",
    "    ax[1, 1].set_title(\"Alpha pour nit : \" + str(nit) + \", sigma : \" + str(sigma))\n",
    "    \n",
    "    ax[2,0].plot(cv_rate)\n",
    "    ax[2,0].set_title('Taux de convergence')\n",
    "    \n",
    "    ax[2,1].set_axis_off()\n",
    "    \n",
    "    plt.show()\n",
    "    print(\"Valeur finale de la fonction coût : \", CF[-1])"
   ]
  },
  {
   "cell_type": "markdown",
   "metadata": {},
   "source": [
    "$\\sigma$ est le paramètre qui correspond à l'attachement aux données. Plus il est grand et plus on s'accroche aux données. \n",
    "Si on veut une forte accroche aux données, il faut augmenter considérablement le nombre d'itérations pour converger.\n",
    "\n",
    "On va visualiser l'évolution des coefficients $\\alpha_k$ et du signal reconstitué selon le nombre d'itérations.\n"
   ]
  },
  {
   "cell_type": "code",
   "execution_count": null,
   "metadata": {
    "scrolled": false
   },
   "outputs": [],
   "source": [
    "%matplotlib notebook\n",
    "sigma = 1\n",
    "p = 30\n",
    "nit = 15000\n",
    "A, y, x, n = Init(500, p)\n",
    "\n",
    "alpha = np.zeros(np.shape(A)[1] * 2) \n",
    "L = 2 * sigma * npl.norm(A, 2) ** 2  # La norme triple de Psi vaut 2\n",
    "CF = []\n",
    "x_plot = np.linspace(0, 1, num=np.shape(A)[1])\n",
    "\n",
    "plt.ion()  # Mode interactif on\n",
    "\n",
    "fig, ax = plt.subplots(nrows=1, ncols=2, figsize=(18, 10))\n",
    "ax[0].set_ylim((-4, 5))\n",
    "ax[1].set_ylim((-0.4, 0.4))\n",
    "\n",
    "for i in range(nit + 1):\n",
    "    x = Psi(alpha)\n",
    "    CF.append(npl.norm(alpha, 1) + sigma / 2 * (npl.norm(np.dot(A, x) - y)) ** 2)\n",
    "    alpha = prox(alpha - 1 / L * sigma * PsiT(A.T.dot(A.dot(Psi(alpha)) - y)), 1 / L)\n",
    "    \n",
    "    if i == 0:  # Initialisation du plot\n",
    "        line1, = ax[0].plot(range(alpha.shape[0]), alpha)\n",
    "        line2, = ax[1].plot(x_plot, x)\n",
    "        ax[0].set_title(\"Alpha à l'itération 1\")\n",
    "        ax[1].set_title(\"Signal reconstitué à l'itération 1\")\n",
    "        fig.canvas.draw()\n",
    "        fig.canvas.flush_events()\n",
    "        plt.pause(1)\n",
    "    elif i % 25 == 0:  # Refresh du signal toutes les 25 itérations\n",
    "        line1.set_ydata(alpha)\n",
    "        ax[0].set_title(\"Alpha à l'itération \" + str(i))\n",
    "        line2.set_ydata(x)\n",
    "        ax[1].set_title(\"Signal reconstitué à l'itération \" + str(i))\n",
    "        fig.canvas.draw()\n",
    "        fig.canvas.flush_events()\n",
    "        plt.pause(5 / i)\n",
    "               \n",
    "plt.ioff()\n",
    "%matplotlib inline"
   ]
  },
  {
   "cell_type": "markdown",
   "metadata": {},
   "source": [
    "Le résultat attendu pour alpha est composé de 4 pics, c'est-à-dire 4 coefficients non nuls, deux correspondant aux cosinus et deux correspondant aux diracs.\n",
    "\n",
    "Sur cette animation on peut voir qu'à la première itération, tous les coefficients ont des valeurs non nulles mais proches de zéro. Ensuite, les coefficients à retrouver voient leur valeur augmenter, ce qui fait diminuer le terme $\\frac{\\sigma}{2} \\|A\\Psi\\alpha-y\\|_2^2$ de la fonction coût. Dans un second temps, on voit la valeur des autres coefficients se rapprocher de 0, ce qui minimise le terme $\\|\\alpha\\|_1$ de la fonction coût.\n",
    "\n",
    "On peut aussi visualiser l'influence du paramètre $\\sigma$ : s'il est trop petit ($\\sigma = 0.001$ pour $p = 30$), on échoue à reconstruire le signal, car la recherche de parcimonie du signal a trop d'influence face à l'attache aux données. On minimise donc la fonction coût en étant loin de la solution et en donnant des valeurs nulles aux coefficients. A l'inverse, une valeur de $\\sigma$ élevée va entraîner une convergence lente. En effet, on va alors chercher en priorité à s'approcher de la valeur mesurée au détriment de la recherche de la parcimonie.  \n",
    "\n",
    "L'intérêt de ce TP étant de reconstruire un signal avec le moins de mesures possibles, et le plus rapidement possible en terme d'itérations, choisir une petite valeur de $\\sigma$ semble être un bon compromis.\n",
    "\n",
    "**Q9**. Vérifiez que la fonction coût décroit de façon monotone. Quel est le taux de convergence observé ?\n",
    "\n",
    "Le taux de convergence est la suite des itérés $\\mu_k = \\frac{\\|x_{k+1} - x^*\\|}{\\|x_k - x^*\\|}$, où $x^*$ désigne la limite vers laquelle converge la suite $x_k$."
   ]
  },
  {
   "cell_type": "code",
   "execution_count": null,
   "metadata": {},
   "outputs": [],
   "source": [
    "A, y, x, n = Init(500, 50)\n",
    "alpha, xtilde, CF, cv_rate = RestoreX(A, y, 0.3, 15000, x)\n",
    "fig, ax = plt.subplots(nrows=1, ncols=2, figsize=(10,5))\n",
    "ax[0].plot(CF)\n",
    "ax[0].semilogy()\n",
    "ax[0].set_title(\"Fonction cout\")\n",
    "ax[1].plot(cv_rate)\n",
    "ax[1].set_title(\"Taux de convergence\")\n",
    "plt.show()"
   ]
  },
  {
   "cell_type": "markdown",
   "metadata": {},
   "source": [
    "On observe un taux de convergence qui tend vers 1 : c'est une convergence sous-linéaire, c'est-à-dire lente. La fonction coût quant à elle décroit bien de façon monotone."
   ]
  },
  {
   "cell_type": "markdown",
   "metadata": {},
   "source": [
    "**Q10.** A partir de combien de mesures pouvez-vous reconstruire exactement le signal $x$ ?"
   ]
  },
  {
   "cell_type": "code",
   "execution_count": null,
   "metadata": {
    "scrolled": false
   },
   "outputs": [],
   "source": [
    "@interact(p=widgets.IntSlider(min=0, max=50, step=2, value=40, continuous_update=False), \n",
    "          sigma=widgets.FloatSlider(min=0.00, max=3, step=0.05, value=1, continuous_update=False))\n",
    "def Test_nb_Mesure(p, sigma):   \n",
    "    A, y, x, n = Init(500, p)\n",
    "    nit = 25000\n",
    "    alpha, xtilde, CF, cv_rate = RestoreX(A, y, sigma, nit, x)\n",
    "    fig, (ax1, ax2) = plt.subplots(1, 2, figsize=(15, 5))\n",
    "    ax1.plot(alpha)\n",
    "    ax1.set_title(\"Coefficients alpha pour p = \" + str(p) + \" et sigma = \" + str(sigma))\n",
    "    ax2.plot(xtilde)\n",
    "    ax2.set_title(\"Signal reconstitué\")\n",
    "    plt.show()\n",
    "    dif = npl.norm(x - xtilde)\n",
    "    print(\"Différence entre le signal initial et reconstitué : \", dif)\n",
    "    print(\"Valeur finale de la fonction coût : \", CF[-1])"
   ]
  },
  {
   "cell_type": "markdown",
   "metadata": {},
   "source": [
    "On fixe volontairement un `nit` assez grand (25000) car les itérations sont assez rapides à effectuer. En revanche si on peut diminuer considérablement le nombre de mesures effectuées (soit `p`), ça serait intéressant en pratique. On a fixé pour les tests un signal de 500 données au total.\n",
    "\n",
    "On peut reconstruire le signal pour $p = 40$. Il faut pour cela ajuster la valeur de $\\sigma$, et une valeur de 1 semble être un bon choix pour $nit = 25000$.\n",
    "\n",
    "Néanmoins, il semble préférable de réduire le nombre maximal d'itérations, et surtout le nombre de mesures. On peut donc envisager de réduire également la valeur de $\\sigma$ à $0.1$."
   ]
  },
  {
   "cell_type": "markdown",
   "metadata": {},
   "source": [
    "### 4.2. Implémentation de l'itération proximale accelérée\n",
    "\n",
    "On n'a a aucun moment utilisé la convexité de la fonction $J$ pour définir l'algorithme proximal. Celui-ci est de fait sous-optimal et peut être nettement accéléré. Dans notre cas, l'algorithme accéléré (Nesterov 2007) suit le schéma suivant:\n",
    "\n",
    "Paramètres en entrée:\n",
    "* $N$ le nombre d'itérations\n",
    "* $\\alpha^0\\in \\mathbb{R}^m$ un point initial.\n",
    "\n",
    "Algorithme\n",
    "> Poser $B^0=0_\\mathbb{R}$, $g^0=0_{\\mathbb{R}^m}$, $\\alpha=\\alpha^0$\n",
    "> For $k$= $0$ to $N$\n",
    "\n",
    ">> $t= \\frac{2}{L}$ \n",
    ">> $a^k = \\frac{1}{2}\\left(t+\\sqrt{t^2+4t B^k}\\right)$ \n",
    ">> $v^{k} =\\mbox{prox}_{B^k\\|\\cdot\\|_1}(\\alpha^0-g^k)$ \n",
    "\n",
    ">> $w^k = \\frac{B^k \\alpha^k +a^k v^k}{B^k+a^k}$ \n",
    "\n",
    ">>  $\\alpha^{k+1} = \\mbox{prox}_{\\frac{1}{L}\\|\\cdot\\|_1}\\left(w^k-\\frac{\\nabla J(w^k)}{L}\\right)$  \n",
    "\n",
    ">>\t$g^{k+1} = g^k + a^k\\nabla J(\\alpha^{k+1})$ \n",
    "\n",
    ">>\t$B^{k+1} = B^k+a^k$\n",
    " \n",
    "**Q11.** En vous aidant de ce que vous avez codé dans la partie précédente, implémentez cet algorithme. "
   ]
  },
  {
   "cell_type": "code",
   "execution_count": null,
   "metadata": {},
   "outputs": [],
   "source": [
    "def Nesterov(A, y, sigma, nit, xopt):\n",
    "    B = 0\n",
    "    g = np.zeros(np.shape(A)[1] * 2)\n",
    "    alpha0 = np.zeros(np.shape(A)[1] * 2)\n",
    "    L = 2 * sigma * npl.norm(A, 2) ** 2\n",
    "    t = 2 / L\n",
    "    CF = []\n",
    "    alpha = np.zeros(np.shape(A)[1] * 2)\n",
    "    cv_rate = np.zeros(nit)\n",
    "    for k in range(nit):\n",
    "        a = 1 / 2 * (t + np.sqrt(t ** 2 + 4 * t * B))\n",
    "        v = prox(alpha - g, B)\n",
    "        w = (B * alpha + a * v) / (B + a)\n",
    "        grad_J_w =  sigma * PsiT(A.T.dot(A.dot(Psi(w)) - y))\n",
    "        xold = Psi(alpha)\n",
    "        alpha = prox(w - grad_J_w / L, 1 / L)\n",
    "        grad_J_alpha =  sigma * PsiT(A.T.dot(A.dot(Psi(alpha)) - y))\n",
    "        g += a * grad_J_alpha\n",
    "        B += a\n",
    "        CF.append(npl.norm(alpha, 1) + sigma / 2 * (npl.norm(np.dot(A, Psi(alpha)) - y)) ** 2)\n",
    "        cv_rate[k] = npl.norm(Psi(alpha) - xopt)/npl.norm(xold - xopt)\n",
    "    x = Psi(alpha)\n",
    "\n",
    "    return alpha, x, CF, cv_rate "
   ]
  },
  {
   "cell_type": "markdown",
   "metadata": {},
   "source": [
    "**Q12.** Testez le et comparez la rapidité d'execution de l'algorithme précédent et de celui-ci."
   ]
  },
  {
   "cell_type": "code",
   "execution_count": null,
   "metadata": {
    "scrolled": false
   },
   "outputs": [],
   "source": [
    "sigma = 0.1\n",
    "p = 50\n",
    "A, y, x, n = Init(500, p)\n",
    "nit = 500\n",
    "\n",
    "alpha, xtilde, CF, cv_rate = Nesterov(A, y, sigma, nit, x)\n",
    "fig, ax = plt.subplots(2, 2, figsize=(15, 15))\n",
    "ax[0,0].plot(alpha)\n",
    "ax[0,0].set_title(\"Coefficients alpha pour p = \" + str(p) + \" et sigma = \" + str(sigma))\n",
    "\n",
    "ax[0,1].plot(xtilde)\n",
    "ax[0,1].set_title(\"Signal reconstitué\")\n",
    "\n",
    "ax[1,0].plot(CF)\n",
    "ax[1,0].semilogy()\n",
    "ax[1,0].set_title(\"Fonction coût\")\n",
    "\n",
    "ax[1,1].plot(cv_rate)\n",
    "ax[1,1].set_title(\"Taux de convergence\")\n",
    "\n",
    "plt.show()\n",
    "dif = npl.norm(x - xtilde)\n",
    "print(\"Différence entre le signal initial et reconstitué : \", dif)\n",
    "print(\"Valeur finale de la fonction coût : \", CF[-1])"
   ]
  },
  {
   "cell_type": "markdown",
   "metadata": {},
   "source": [
    "Les graphiques ci-dessus sont obtenus pour $p = 50$ mesures, $\\sigma = 0.1$ et $nit = 500$ itérations.\n",
    "\n",
    "Le signal est bien reconstitué après un petit nombre d'itérations. \n",
    "Si on applique la première version de l'algorithme avec les mêmes paramètres, on observe qu'il n'a pas eu le temps de converger. La version accélérée est donc bien plus rapide. \n",
    "\n",
    "On remarque de plus que les paramètres optimaux sur ces deux algorithmes sont les mêmes. C'est tout à fait normal car l'algorithme accéléré se base sur les mêmes principes que l'algorithme proximal. Il prend juste en compte la convexité de notre fonction en plus.\n",
    "\n",
    "Les graphes ci-dessous montrent la reconstitution du signal pour les mêmes paramètres, mais avec la fonction `RestoreX`."
   ]
  },
  {
   "cell_type": "code",
   "execution_count": null,
   "metadata": {},
   "outputs": [],
   "source": [
    "A, y, x, n = Init(500, p)\n",
    "\n",
    "alpha, xtilde, CF, cv_rate = RestoreX(A, y, sigma, nit, x)\n",
    "fig, ax = plt.subplots(2, 2, figsize=(15, 15))\n",
    "ax[0,0].plot(alpha)\n",
    "ax[0,0].set_title(\"Coefficients alpha pour p = \" + str(p) + \" et sigma = \" + str(sigma))\n",
    "\n",
    "ax[0,1].plot(xtilde)\n",
    "ax[0,1].set_title(\"Signal reconstitué\")\n",
    "\n",
    "ax[1,0].plot(CF)\n",
    "ax[1,0].semilogy()\n",
    "ax[1,0].set_title(\"Fonction coût\")\n",
    "\n",
    "ax[1,1].plot(cv_rate)\n",
    "ax[1,1].set_title(\"Taux de convergence\")\n",
    "plt.show()\n",
    "dif = npl.norm(x - xtilde)\n",
    "print(\"Différence entre le signal initial et reconstitué : \", dif)\n",
    "print(\"Valeur finale de la fonction coût : \", CF[-1])"
   ]
  },
  {
   "cell_type": "markdown",
   "metadata": {},
   "source": [
    "**Q13.** Faites un rapide résumé des points qui vous ont semblé les plus importants dans ce TP."
   ]
  },
  {
   "cell_type": "markdown",
   "metadata": {},
   "source": [
    "L'échantillonnage compressif est un moyen efficace de contourner le théorème de Shannon lorsque l'on souhaite reconstituer convenablement un signal. En effet d'après ce théorème et avec le signal étudié, il aurait fallu que notre fréquence d'échantillonnage soit supérieure à 700 Hz, puisque notre signal d'origine était composé d'une sinusoïde de fréquence 350 Hz. Cela représente donc un nombre trop important de mesures à effectuer (700 au minimum) pour être utilisé en pratique. \n",
    "A l'inverse, grâce à l'échantillonnage compressif, on a pu reconstituer un signal avec un nombre très faible de mesures. De plus même si le signal était irrégulier (à cause des deux diracs), l'échantillonnage compressif s'est révélé efficace dans la reconstruction de ce signal. Avec nos paramètres choisis, on a pu se satisfaire de 40 mesures : c'est donc 17 fois moins que ce dont Shannon a besoin.\n",
    "\n",
    "La méthode accélérée est beaucoup plus efficace que la méthode de l'algorithme proximal classique. En effet, pour 50 mesures et $\\sigma = 0.1$, seulement 500 itérations suffisent à faire converger l'algorithme proximal accéléré. En revanche, les mêmes paramètres ne permettent pas du tout de faire converger l'algorithme classique.  On obtient de tels résultats avec `Nesterov` car cette méthode exploite la convexité de la fonction $J$, à défaut de pouvoir se baser sur sa différentiabilité.\n",
    "\n",
    "Le choix de $\\sigma$ demande plusieurs essais et dépend du choix de $p$. Il faut en effet faire un compromis en fonction du type de solution que l'on souhaite obtenir. Si on désire une solution précise, proche de la réalité, on pourra alors prendre un $\\sigma$ assez élevé, mais il faudra également augmenter le nombre d'itérations nécessaires à la reconstruction du signal. En revanche, si on souhaite calculer rapidement la solution, on peut se permettre de prendre $\\sigma$ petit, et ainsi réduire le nombre de mesures et le nombre d'itérations.\n",
    "\n",
    "Néanmoins, nous avons modifié la fonction coût dans le but de simplifier et d'accélérer la convergence de l'algorithme vers un point minimal de $\\| \\alpha_1 \\|$ sous la contrainte $A\\Psi\\alpha = y$ : c'est le problème $(4)$. On appelle cela la relaxation : on prend en compte la contrainte $A\\Psi\\alpha = y$ dans la fonction coût, mais de manière \"moins stricte\". La solution du problème $(4)$ ne tend vers une solution du problème initial que si $\\sigma$ tend vers $0$. En pratique, pour reconstituer notre signal on va donc choisir un $\\sigma$ faible, et ainsi diminuer considérablement le nombre de mesures."
   ]
  }
 ],
 "metadata": {
  "kernelspec": {
   "display_name": "Python 3",
   "language": "python",
   "name": "python3"
  },
  "language_info": {
   "codemirror_mode": {
    "name": "ipython",
    "version": 3
   },
   "file_extension": ".py",
   "mimetype": "text/x-python",
   "name": "python",
   "nbconvert_exporter": "python",
   "pygments_lexer": "ipython3",
   "version": "3.7.3"
  }
 },
 "nbformat": 4,
 "nbformat_minor": 2
}
